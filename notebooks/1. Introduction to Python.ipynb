{
 "cells": [
  {
   "cell_type": "markdown",
   "metadata": {},
   "source": [
    "# Python\n",
    "Python is a general purpose programming language. In these workshops, we will use Python 3.8 or higher. Python, like JavaScript, is an interpreted language, as opposed to Java or C, which need to be compiled before running. This implies that some of the errors detected during the source compilation will not be noticed and will generate exceptions during execution.\n",
    "\n",
    "In this notebook we are going to see some very basic examples of how to use Python and some of its libraries, to get a detailed view of the language, check https://docs.python.org/3/tutorial/\n",
    "\n",
    "## Variables and types\n",
    "Python is a strongly typed language. Python has four basic types: integer number `int`, decimal number `float`, boolean `bool` and text strings `str`. When we define a variable, we will not specify the type."
   ]
  },
  {
   "cell_type": "code",
   "execution_count": null,
   "metadata": {},
   "outputs": [],
   "source": [
    "# This is a comment\n",
    "# Comments start with the character #\n",
    "\n",
    "# This frame is a cell which can be executed individually.\n",
    "# To execute a cell press Ctrl+Enter or press the run button in the tools menu\n",
    "\n",
    "print(\"Hello World!\")"
   ]
  },
  {
   "cell_type": "code",
   "execution_count": null,
   "metadata": {},
   "outputs": [],
   "source": [
    "# An integer\n",
    "myInt = 10\n",
    "\n",
    "# A float value\n",
    "myFloat = 3.14\n",
    "\n",
    "# A boolean\n",
    "myBool = True\n",
    "\n",
    "# A string, you can use simple quotes ' or double quotes \"\n",
    "myStr = \"example1\"\n",
    "myStr2 = 'example2'\n"
   ]
  },
  {
   "cell_type": "markdown",
   "metadata": {},
   "source": [
    "To display output, we use the `print()` function."
   ]
  },
  {
   "cell_type": "code",
   "execution_count": null,
   "metadata": {},
   "outputs": [],
   "source": [
    "print(myInt)\n",
    "print(myFloat)\n",
    "print(myBool)\n",
    "print(myStr)\n",
    "print(myStr2)\n",
    "\n",
    "# As Python is strongly typed variables will not change its type automatically, so, for example, if we want to concatenate\n",
    "# an int with an str, we have to convert the int into a str first\n",
    "print(myStr + \" \" + str(myInt))"
   ]
  },
  {
   "cell_type": "markdown",
   "metadata": {},
   "source": [
    "## Basic operations"
   ]
  },
  {
   "cell_type": "code",
   "execution_count": null,
   "metadata": {},
   "outputs": [],
   "source": [
    "# Add\n",
    "print(3 + 5)\n",
    "\n",
    "# Subtract\n",
    "print(3 - 5)\n",
    "\n",
    "# Multiply\n",
    "print(3 * 5)\n",
    "\n",
    "# Divide\n",
    "print(3 / 5)\n",
    "\n",
    "# Power \n",
    "print(3 ** 5)"
   ]
  },
  {
   "cell_type": "markdown",
   "metadata": {},
   "source": [
    "## Lists"
   ]
  },
  {
   "cell_type": "code",
   "execution_count": null,
   "metadata": {},
   "outputs": [],
   "source": [
    "myList = [1, 2, 3, True, \"APSV\"]\n",
    "\n",
    "# Access an element in certain position\n",
    "print(myList[0])\n",
    "\n",
    "# We can access elements at the end by using negative index. -1 is the last value, -2 the previous one, etc\n",
    "print(myList[-1])\n",
    "\n",
    "# We can obtain a sublist using the syntax myList[start:end]\n",
    "# If start is not specified, the beginning of the list is used by default; similarly, if end is not specified, the list's end is used.\n",
    "print(myList[0:2])\n",
    "print(myList[-3:-1])\n",
    "print(myList[:2])\n",
    "print(myList[2:])"
   ]
  },
  {
   "cell_type": "code",
   "execution_count": null,
   "metadata": {},
   "outputs": [],
   "source": [
    "# To modify a value\n",
    "myList[0] = 4\n",
    "print(myList)\n",
    "\n",
    "# To add elements at the end of the list\n",
    "myList.append(\"Exam\")\n",
    "print(myList)\n",
    "\n",
    "# To add elements at a specific position\n",
    "myList.insert(1,23)\n",
    "print(myList)\n",
    "\n",
    "# To remove the last element\n",
    "lastElement = myList.pop()\n",
    "print(myList)\n",
    "\n",
    "# To remove a certain element\n",
    "del(myList[1])\n",
    "print(myList)\n",
    "\n",
    "# To remove an element by its value (the first occurrence)\n",
    "myList.remove(3)\n",
    "print(myList)\n",
    "\n",
    "# To obtain the length of any collection\n",
    "print(len(myList))"
   ]
  },
  {
   "cell_type": "code",
   "execution_count": null,
   "metadata": {},
   "outputs": [],
   "source": [
    "# Extra: Python has another type of collection called tuples. Tuples are similar to lists, but the main difference is that tuples are immutable, meaning their elements cannot be modified after creation.\n",
    "# They are defined using parenthesis instead of brackets. We can access elements in the same way as with lists\n",
    "\n",
    "myTuple = (1, 2, 3, True, \"APSV\")\n",
    "\n",
    "print(\"First element: \" + str(myTuple[0]))"
   ]
  },
  {
   "cell_type": "markdown",
   "metadata": {},
   "source": [
    "## Dictionaries\n",
    "Dictionaries are collections of key-value pairs. Dictionaries can be accessed like lists, but they use keys instead of indexes.\n",
    "\n",
    "The values can have different types, even is common to have dictionaries inside dictionaries (eg. to work with a json)."
   ]
  },
  {
   "cell_type": "code",
   "execution_count": null,
   "metadata": {},
   "outputs": [],
   "source": [
    "# Dictionaries are marked with {} characters\n",
    "# The syntax to set a key-value pair is \"key\": \"value\"\n",
    "myDict = { \"key\": \"value\", \"APSV\": 23, \"arr\" : [1,2,3] }\n",
    "print(myDict)\n",
    "\n",
    "# Access by key\n",
    "print(myDict[\"arr\"])"
   ]
  },
  {
   "cell_type": "markdown",
   "metadata": {},
   "source": [
    "## Boolean operations"
   ]
  },
  {
   "cell_type": "code",
   "execution_count": null,
   "metadata": {},
   "outputs": [],
   "source": [
    "# AND\n",
    "print(myInt < 5 and myBool)\n",
    "\n",
    "# OR\n",
    "print(myInt > 5 or myBool)\n",
    "\n",
    "# Negate (NOT)\n",
    "print(not myBool)\n",
    "\n",
    "# Check element in list\n",
    "print(4 in myList)"
   ]
  },
  {
   "cell_type": "markdown",
   "metadata": {},
   "source": [
    "## Flow control\n",
    "In Python, code blocks are defined by their indentation level, unlike other languages that use {} to enclose blocks."
   ]
  },
  {
   "cell_type": "code",
   "execution_count": null,
   "metadata": {},
   "outputs": [],
   "source": [
    "# Conditional\n",
    "if myInt > 5:\n",
    "    print(\"myInt is greater than 5\")"
   ]
  },
  {
   "cell_type": "code",
   "execution_count": null,
   "metadata": {},
   "outputs": [],
   "source": [
    "# Conditional with else\n",
    "if myInt < 5:\n",
    "    print(\"myInt is less than 5\")\n",
    "else:\n",
    "    print(\"myInt is greater than 5\")"
   ]
  },
  {
   "cell_type": "code",
   "execution_count": null,
   "metadata": {},
   "outputs": [],
   "source": [
    "# Nested conditionals\n",
    "if myInt < 5:\n",
    "    print(\"myInt is less than 5\")\n",
    "elif myInt < 15:\n",
    "    print(\"myInt is less than 15\")\n",
    "else:\n",
    "    print(\"myInt is greater than 15\")"
   ]
  },
  {
   "cell_type": "code",
   "execution_count": null,
   "metadata": {},
   "outputs": [],
   "source": [
    "# Using a for loop to iterate over the elements of a list.\n",
    "for i in myList:\n",
    "    print(i)"
   ]
  },
  {
   "cell_type": "code",
   "execution_count": null,
   "metadata": {},
   "outputs": [],
   "source": [
    "# Using a for loop to iterate over a range of values.\n",
    "for i in range(len(myList)):\n",
    "    print(str(i) + \" - \" + str(myList[i]))"
   ]
  },
  {
   "cell_type": "code",
   "execution_count": null,
   "metadata": {},
   "outputs": [],
   "source": [
    "# While loop\n",
    "a = 0\n",
    "while a < 10:\n",
    "    print(a)\n",
    "    a += 1"
   ]
  },
  {
   "cell_type": "code",
   "execution_count": null,
   "metadata": {},
   "outputs": [],
   "source": [
    "# Break and continue\n",
    "a = 0\n",
    "while True:\n",
    "    a += 1\n",
    "    if a > 10:\n",
    "        break\n",
    "    if a % 2 == 0:\n",
    "        continue\n",
    "    print(a, \"is odd\")"
   ]
  },
  {
   "cell_type": "markdown",
   "metadata": {},
   "source": [
    "### Advanced (optional) — List comprehensions\n",
    "\n",
    "List comprehensions are a concise way to create lists in Python. The general form is:\n",
    "\n",
    "[expression for item in iterable if condition]\n",
    "\n",
    "- expression: any valid Python expression that uses ``item`` (for example ``item*2``)\n",
    "- item: loop variable\n",
    "- iterable: any iterable (``range()``, list, generator, etc.)\n",
    "- if condition: an optional filter (only include items that satisfy the condition)\n",
    "\n",
    "Notes:\n",
    "- List comprehensions are often more readable and faster than equivalent for-loops for simple transformations.\n",
    "- For very large numeric data, NumPy vectorized operations (arrays) are usually much faster than either approach.\n",
    "- If you only need to iterate once without creating a list, use a generator expression (parentheses) to save memory, e.g. ``(x*x for x in range(10))``."
   ]
  },
  {
   "cell_type": "code",
   "execution_count": null,
   "metadata": {},
   "outputs": [
    {
     "name": "stdout",
     "output_type": "stream",
     "text": [
      "[0, 1, 4, 9, 16, 25, 36, 49, 64, 81]\n",
      "[0, 2, 4, 6, 8, 10, 12, 14, 16, 18]\n",
      "[(0, 0), (0, 1), (1, 0), (1, 1), (2, 0), (2, 1)]\n"
     ]
    }
   ],
   "source": [
    "# Squares from 0 to 9:\n",
    "print([x*x for x in range(10)])\n",
    "\n",
    "# Filter even numbers:\n",
    "print([x for x in range(20) if x % 2 == 0])\n",
    "\n",
    "# Nested comprehension (pairs):\n",
    "print([(i, j) for i in range(3) for j in range(2)])\n"
   ]
  },
  {
   "cell_type": "code",
   "execution_count": 4,
   "metadata": {},
   "outputs": [
    {
     "name": "stdout",
     "output_type": "stream",
     "text": [
      "[0, 1, 4, 9, 16, 25, 36, 49, 64, 81]\n",
      "[0, 2, 4, 6, 8, 10, 12, 14, 16, 18]\n",
      "[(0, 0), (0, 1), (1, 0), (1, 1), (2, 0), (2, 1)]\n"
     ]
    }
   ],
   "source": [
    "# Equivalent for-loop versions (for comparison):\n",
    "#Squares from 0 to 9:\n",
    "squares = []\n",
    "for x in range(10):\n",
    "    squares.append(x*x)\n",
    "print(squares)\n",
    "\n",
    "# Filter even numbers:\n",
    "\n",
    "evens = []\n",
    "for x in range(20):\n",
    "    if x % 2 == 0:\n",
    "        evens.append(x)\n",
    "print(evens)\n",
    "\n",
    "# Nested loop (pairs):\n",
    "pairs = []\n",
    "for i in range(3):\n",
    "    for j in range(2):\n",
    "        pairs.append((i, j))\n",
    "print(pairs)"
   ]
  },
  {
   "cell_type": "markdown",
   "metadata": {},
   "source": [
    "This syntax is often complemented with functional programming style helpers that reduce a collection to a single value. In Python, these are built-in functions that receive an iterable as a parameter. For example, `sum([1,2,3])` computes the sum of all elements in the list. See Python's built-in functions: https://docs.python.org/3/library/functions.html (e.g., `sum`, `max`, `min`, `any`, `all`) and the starting guide to Python Funcional Programming https://docs.python.org/3/howto/functional.html."
   ]
  },
  {
   "cell_type": "code",
   "execution_count": 3,
   "metadata": {},
   "outputs": [
    {
     "name": "stdout",
     "output_type": "stream",
     "text": [
      "285\n",
      "18\n",
      "{0: 1, 1: 1, 2: 1}\n"
     ]
    }
   ],
   "source": [
    "# Sum of squares from 0 to 9:\n",
    "print(sum([x*x for x in range(10)]))\n",
    "\n",
    "# Max even number in a collection:\n",
    "print(max([x for x in range(20) if x % 2 == 0]))\n",
    "\n",
    "# Create a dictionary:\n",
    "print(dict([(i, j) for i in range(3) for j in range(2)]))"
   ]
  },
  {
   "cell_type": "markdown",
   "metadata": {},
   "source": [
    "# Methods\n",
    "To define a method in python we will use the following syntax `def methodName(arg1, arg2 = \"default value\")`."
   ]
  },
  {
   "cell_type": "code",
   "execution_count": null,
   "metadata": {},
   "outputs": [],
   "source": [
    "def sumValues(a, b=1):\n",
    "    return a + b\n",
    "\n",
    "print(sumValues(2,3))\n",
    "print(sumValues(2))"
   ]
  },
  {
   "cell_type": "markdown",
   "metadata": {},
   "source": [
    "## Import modules\n",
    "In Python external dependencies are usually called modules, to import them we will use `import moduleName`\n",
    "\n",
    "If you want to learn more about Python or need to install additional modules, you can use the `pip` command to install external libraries (similar to `npm` in JavaScript)."
   ]
  },
  {
   "cell_type": "code",
   "execution_count": null,
   "metadata": {
    "scrolled": true
   },
   "outputs": [],
   "source": [
    "import math\n",
    "print(math.sqrt(2))\n",
    "import random\n",
    "print(random.random())"
   ]
  },
  {
   "cell_type": "markdown",
   "metadata": {},
   "source": [
    "## Errors\n",
    "Until now, all the code that we have executed has run correctly, but when we do more complex things, we can get execution errors. Now, we will run some code with errors to see the types of errors we might encounter and how they appear."
   ]
  },
  {
   "cell_type": "code",
   "execution_count": null,
   "metadata": {},
   "outputs": [],
   "source": [
    "# NameError\n",
    "# This error occurs when a variable or name is not defined.\n",
    "print(var33)"
   ]
  },
  {
   "cell_type": "code",
   "execution_count": null,
   "metadata": {
    "scrolled": true
   },
   "outputs": [],
   "source": [
    "# TypeError\n",
    "# Occurs when attempting invalid operations between types at runtime (e.g., concatenating str and int).\n",
    "print(\"hello \" + 3)"
   ]
  },
  {
   "cell_type": "code",
   "execution_count": null,
   "metadata": {},
   "outputs": [],
   "source": [
    "# ZeroDivisionError\n",
    "print(1 / 0)"
   ]
  },
  {
   "cell_type": "code",
   "execution_count": null,
   "metadata": {},
   "outputs": [],
   "source": [
    "# IndexError\n",
    "# This happens when we try to access an index that is out of bounds or undefined.\n",
    "a = [1, 2]\n",
    "print(a[4])"
   ]
  },
  {
   "cell_type": "markdown",
   "metadata": {},
   "source": [
    "## Problems\n",
    "### Problem 1\n",
    "Design a method to calculate the cosine distance between two lists of floats ``a`` and ``b``. The cosine distance or cosine similarity is a measure of the angle between two vectors https://en.wikipedia.org/wiki/Cosine_similarity.\n",
    "\n",
    "$D =1-\\cos(\\theta) = 1-{\\mathbf{A} \\cdot \\mathbf{B} \\over \\|\\mathbf{A}\\| \\|\\mathbf{B}\\|} = 1-\\frac{ \\sum\\limits_{i=1}^{n}{A_i  B_i} }{ \\sqrt{\\sum\\limits_{i=1}^{n}{A_i^2}}  \\sqrt{\\sum\\limits_{i=1}^{n}{B_i^2}} } $\n",
    "\n",
    "To check your solution you can use the following tests:\n",
    " - ``cosine_distance([1, 0, -1], [1, 0, -1]) == 0.0``\n",
    " - ``cosine_distance([1, 0, -1], [-1, 0, 1]) == 2.0``\n",
    " - ``cosine_distance([1, 0, -1], [0, 1, 0]) == 1.0``\n",
    " - ``cosine_distance([1, 2, 3], [3, 2, 1]) == 0.2857``"
   ]
  },
  {
   "cell_type": "code",
   "execution_count": null,
   "metadata": {},
   "outputs": [],
   "source": [
    "# Use this cell to write your code\n",
    "def cos_distance( a, b ):\n",
    "    return"
   ]
  },
  {
   "cell_type": "code",
   "execution_count": null,
   "metadata": {},
   "outputs": [],
   "source": [
    "# Try it\n",
    "print(cos_distance([1,2,3], [3,2,1]))\n",
    "print( \"Obtained: \",cos_distance([1,0,-1], [ 1,0,-1]), \", Expected: \", 0)\n",
    "print( \"Obtained: \",cos_distance([1,0,-1], [-1,0, 1]), \", Expected: \", 2)\n",
    "print( \"Obtained: \",cos_distance([1,0,-1], [ 0,1, 0]), \", Expected: \", 1)\n"
   ]
  },
  {
   "cell_type": "markdown",
   "metadata": {},
   "source": [
    "### Problem 2\n",
    "Design a function that, given a list of lists (a matrix) of numbers, returns the position of the maximum value as a tuple. For example, given the following matrix:\n",
    "\n",
    "```\n",
    "matrix = [\n",
    "    [7, 5, 3],\n",
    "    [2, 4, 9],\n",
    "    [1, 6, 8]\n",
    "]\n",
    "```\n",
    "\n",
    "The method should return the tuple ``(1, 2)``."
   ]
  },
  {
   "cell_type": "code",
   "execution_count": null,
   "metadata": {},
   "outputs": [],
   "source": [
    "# Use this cell to write your code\n",
    "def get_maximum_position( matrix ):\n",
    "    return"
   ]
  },
  {
   "cell_type": "code",
   "execution_count": null,
   "metadata": {},
   "outputs": [],
   "source": [
    "# Try it\n",
    "matrix = [[7, 5, 3], [2, 4, 9], [1, 6, 8]]\n",
    "print(get_maximum_position(matrix)) # Should print (1,2)\n",
    "\n",
    "matrix = [[1,2,3],[4,5,6],[7,8,9]]\n",
    "print(get_maximum_position(matrix)) # Should print (2,2)"
   ]
  },
  {
   "cell_type": "markdown",
   "metadata": {},
   "source": [
    "## Optional\n",
    "\n",
    "Try to solve these problems using list comprehension syntax or calling functions from NumPy. Compare the performance of each approach with the `%timeit` magic (Colab/Jupyter). To make the measurement meaningful, use large inputs and run several iterations or repeated calls."
   ]
  },
  {
   "cell_type": "markdown",
   "metadata": {},
   "source": [
    "___\n",
    "# Pandas\n",
    "## Python Data Analysis Library\n",
    "Pandas is an open-source library that provides high-performance data structures and data analysis tools for Python.\n",
    "https://pandas.pydata.org/\n",
    "\n",
    "The basic data structure of Pandas is the dataframe. A dataframe is a collection of tabulated data, similar to a SQL table. Dataframes must always have an index column.\n",
    "\n",
    "The introductory guide of pandas covers more contents than those which we are going to use in this case, but it is recommended to give a quick view to it: https://pandas.pydata.org/docs/getting_started/overview.html\n",
    "\n",
    "__NumPy__ (http://www.numpy.org/) is the fundamental package for scientific computing with Python. It contains among other things:\n",
    "- a powerful N-dimensional array object\n",
    "- sophisticated (broadcasting) functions\n",
    "- tools for integrating C/C++ and Fortran code\n",
    "- useful linear algebra, Fourier transform, and random number capabilities\n",
    "\n",
    "Besides its obvious scientific uses, NumPy can also be used as an efficient multi-dimensional container of generic data. Arbitrary data-types can be defined. This allows NumPy to seamlessly and speedily integrate with a wide variety of databases.\n",
    "\n",
    "__Important functions__\n",
    "Some cells contains methods of functions that are going to be used in the next workshops. Those cells are marked with a comment like this 💥💥💥"
   ]
  },
  {
   "cell_type": "code",
   "execution_count": null,
   "metadata": {},
   "outputs": [],
   "source": [
    "import pandas as pd\n",
    "import numpy as np"
   ]
  },
  {
   "cell_type": "markdown",
   "metadata": {},
   "source": [
    "The next cell downloads the required data set to carry out the workshop. This kind of code executes a shell command, in this case `curl` to download the file from the internet. The `!` at the beginning of the line indicates that the command is not Python code, but a shell command.\n",
    "\n",
    "If you are not following the recommended environment setup, you may need to download the file manually from the repository and put it in the same folder as the notebook."
   ]
  },
  {
   "cell_type": "code",
   "execution_count": null,
   "metadata": {},
   "outputs": [],
   "source": [
    "!curl https://raw.githubusercontent.com/APSV-UPM/BusinessIntelligence/main/data/orders.csv > orders.csv\n",
    "!curl https://raw.githubusercontent.com/APSV-UPM/BusinessIntelligence/main/data/customers.json > customers.json\n",
    "!curl https://raw.githubusercontent.com/APSV-UPM/BusinessIntelligence/main/data/packages.zip > packages.zip"
   ]
  },
  {
   "cell_type": "markdown",
   "metadata": {
    "collapsed": true
   },
   "source": [
    "### Load data\n",
    "We can load data into dataframes from different sources\n",
    "https://pandas.pydata.org/pandas-docs/stable/user_guide/io.html"
   ]
  },
  {
   "cell_type": "code",
   "execution_count": null,
   "metadata": {},
   "outputs": [],
   "source": [
    "# 💥💥💥\n",
    "trucks_data = [['9073 YGP', 130, 150, 200,  300],\n",
    "    ['3881 KCC', 130, 200, 245,  400],\n",
    "    ['1845 GDS', 130, 245, 250,  600],\n",
    "    ['8725 MHH', 130, 270, 245, 1300]]\n",
    "trucks = pd.DataFrame(trucks_data, columns = ['plate', 'max_cargo', 'height', 'width', 'length'])\n",
    "customers = pd.read_json(\"customers.json\")\n",
    "orders = pd.read_csv(\"orders.csv\")\n",
    "packages = pd.read_csv(\"packages.zip\")"
   ]
  },
  {
   "cell_type": "markdown",
   "metadata": {},
   "source": [
    "### Accessing the dataframe\n",
    "Evaluating a DataFrame variable displays its content in a table format."
   ]
  },
  {
   "cell_type": "code",
   "execution_count": null,
   "metadata": {
    "scrolled": true
   },
   "outputs": [],
   "source": [
    "trucks"
   ]
  },
  {
   "cell_type": "code",
   "execution_count": null,
   "metadata": {
    "scrolled": false
   },
   "outputs": [],
   "source": [
    "customers"
   ]
  },
  {
   "cell_type": "code",
   "execution_count": null,
   "metadata": {},
   "outputs": [],
   "source": [
    "orders"
   ]
  },
  {
   "cell_type": "code",
   "execution_count": null,
   "metadata": {},
   "outputs": [],
   "source": [
    "packages"
   ]
  },
  {
   "cell_type": "markdown",
   "metadata": {
    "collapsed": true
   },
   "source": [
    "### Index\n",
    "By default, a dataframe's index is a column of incrementing integers."
   ]
  },
  {
   "cell_type": "code",
   "execution_count": null,
   "metadata": {},
   "outputs": [],
   "source": [
    "# Accessing the rows with index within the specified range\n",
    "orders[1:3]"
   ]
  },
  {
   "cell_type": "code",
   "execution_count": null,
   "metadata": {},
   "outputs": [],
   "source": [
    "# To get a single row we must use the method iloc\n",
    "orders.iloc[1]"
   ]
  },
  {
   "cell_type": "code",
   "execution_count": null,
   "metadata": {},
   "outputs": [],
   "source": [
    "# Getting the index column as a list\n",
    "orders.index"
   ]
  },
  {
   "cell_type": "markdown",
   "metadata": {
    "collapsed": true
   },
   "source": [
    "### Access to data column\n",
    "We can retrieve the columns data as if the dataframe was a dictionary"
   ]
  },
  {
   "cell_type": "code",
   "execution_count": null,
   "metadata": {},
   "outputs": [],
   "source": [
    "# 💥💥💥\n",
    "# Get a single column\n",
    "customers[\"province\"]\n",
    "# Or\n",
    "customers.province"
   ]
  },
  {
   "cell_type": "code",
   "execution_count": null,
   "metadata": {},
   "outputs": [],
   "source": [
    "# Get multiple columns (this returns a dataframe with the selected columns)\n",
    "customers[[\"lat\",\"lng\"]]"
   ]
  },
  {
   "cell_type": "code",
   "execution_count": null,
   "metadata": {
    "scrolled": true
   },
   "outputs": [],
   "source": [
    "# 💥💥💥\n",
    "# Get unique values from a column\n",
    "customers[\"province\"].unique()"
   ]
  },
  {
   "cell_type": "markdown",
   "metadata": {
    "collapsed": true
   },
   "source": [
    "### Describe data\n",
    "When we evaluate a dataframe, pandas will show a table with it contents. If there are many rows, it only shows the beginning and the end."
   ]
  },
  {
   "cell_type": "code",
   "execution_count": null,
   "metadata": {},
   "outputs": [],
   "source": [
    "packages"
   ]
  },
  {
   "cell_type": "markdown",
   "metadata": {},
   "source": [
    "We can use the method `describe` to know more about one column or the whole dataset. If the column contains numerical values, it calculates statistical measures like the average, count, max, and min. On the other hand, if the column contains strings, it counts the unique values and returns the most frequent one."
   ]
  },
  {
   "cell_type": "code",
   "execution_count": null,
   "metadata": {},
   "outputs": [],
   "source": [
    "# 💥💥💥\n",
    "packages.describe()"
   ]
  },
  {
   "cell_type": "code",
   "execution_count": null,
   "metadata": {},
   "outputs": [],
   "source": [
    "packages[\"height\"].describe()"
   ]
  },
  {
   "cell_type": "code",
   "execution_count": null,
   "metadata": {},
   "outputs": [],
   "source": [
    "# 💥💥💥\n",
    "# List columns and their types\n",
    "customers.dtypes"
   ]
  },
  {
   "cell_type": "code",
   "execution_count": null,
   "metadata": {},
   "outputs": [],
   "source": [
    "# 💥💥💥\n",
    "# info() prints information about the dataframe including the index dtype and columns, non-null values and memory usage \n",
    "orders.info()"
   ]
  },
  {
   "cell_type": "markdown",
   "metadata": {},
   "source": [
    "### Searching data\n",
    "We will need to get the rows that match certain conditions; we do this using the `loc` function."
   ]
  },
  {
   "cell_type": "code",
   "execution_count": null,
   "metadata": {},
   "outputs": [],
   "source": [
    "# 💥💥💥\n",
    "# Searching all packages smaller than 100cm\n",
    "packages.loc[packages[\"height\"]<100]"
   ]
  },
  {
   "cell_type": "code",
   "execution_count": null,
   "metadata": {},
   "outputs": [],
   "source": [
    "# Searching for customers name contains the string 'Ruiz'\n",
    "customers.loc[customers[\"name\"].str.contains(\"Ruiz\")]"
   ]
  },
  {
   "cell_type": "code",
   "execution_count": null,
   "metadata": {},
   "outputs": [],
   "source": [
    "# 💥💥💥\n",
    "# If we want to retreive a row and we know its index, we can use the method iloc\n",
    "customers.iloc[23]"
   ]
  },
  {
   "cell_type": "markdown",
   "metadata": {},
   "source": [
    "### Filtering\n",
    "Sometimes we will need to filter our data: discard empty values, keep only variables in a range, etc."
   ]
  },
  {
   "cell_type": "code",
   "execution_count": null,
   "metadata": {},
   "outputs": [],
   "source": [
    "# We can perform boolean operations with columns that returns a column of boolean values \n",
    "# These boolean columns are called masks\n",
    "packages[\"width\"]<120"
   ]
  },
  {
   "cell_type": "code",
   "execution_count": null,
   "metadata": {},
   "outputs": [],
   "source": [
    "# We will use those columns to filter our data\n",
    "packages_filtered = packages[packages[\"width\"]<120]"
   ]
  },
  {
   "cell_type": "code",
   "execution_count": null,
   "metadata": {},
   "outputs": [],
   "source": [
    "# To filter by the contents of a strings column\n",
    "# Use na=False in the contains call to avoid errors if the column contains NaN values\n",
    "customers[customers.province.str.contains(\"ia\")]"
   ]
  },
  {
   "cell_type": "markdown",
   "metadata": {},
   "source": [
    "### Modifying data in a column"
   ]
  },
  {
   "cell_type": "code",
   "execution_count": null,
   "metadata": {},
   "outputs": [],
   "source": [
    "# 💥💥💥\n",
    "# We can apply a method to each value in a column\n",
    "def to_inches(x):\n",
    "    return x * 0.393701\n",
    "print(\"Original\")\n",
    "print(packages[\"width\"])\n",
    "print(\"Modified\")\n",
    "# Apply and the name of the method we want to execute over each value\n",
    "print(packages[\"width\"].apply(to_inches))"
   ]
  },
  {
   "cell_type": "code",
   "execution_count": null,
   "metadata": {},
   "outputs": [],
   "source": [
    "# ADVANCED\n",
    "# We can do the same by using lambdas\n",
    "print(packages[\"width\"].apply(lambda x: x * 0.393701))"
   ]
  },
  {
   "cell_type": "markdown",
   "metadata": {},
   "source": [
    "### Modifying single values"
   ]
  },
  {
   "cell_type": "code",
   "execution_count": null,
   "metadata": {},
   "outputs": [],
   "source": [
    "# 💥💥💥\n",
    "# We can modify the content of a single cell with the method at. This method work similar to iloc\n",
    "# It receives the index of the row and the name of the column we want to access. Watch out, we will pass these parameters between brackets, not parenthesis\n",
    "# dataframe.at[row_index, \"column_name\"]\n",
    "print(\"Previous value:\",packages.at[0,\"width\"])\n",
    "packages.at[0,\"width\"] = 100\n",
    "print(\"New value:\",packages.at[0,\"width\"])"
   ]
  },
  {
   "cell_type": "markdown",
   "metadata": {},
   "source": [
    "### Creating new columns"
   ]
  },
  {
   "cell_type": "code",
   "execution_count": null,
   "metadata": {},
   "outputs": [],
   "source": [
    "def is_big(x):\n",
    "    if x > 150:\n",
    "        return True\n",
    "    else:\n",
    "        return False\n",
    "packages[\"big\"] = packages.height.apply(is_big)"
   ]
  },
  {
   "cell_type": "code",
   "execution_count": null,
   "metadata": {},
   "outputs": [],
   "source": [
    "# 💥💥💥\n",
    "# We can use apply method over the row with the parameter \"axis=1\"\n",
    "def volume(x):\n",
    "    return x.height * x.length * x.width\n",
    "packages[\"volume\"] = packages.apply(volume, axis=1)"
   ]
  },
  {
   "cell_type": "markdown",
   "metadata": {},
   "source": [
    "### Advanced (optional) — Vectorization, apply, and method chaining\n",
    "\n",
    "In Pandas, vectorized operations (working on whole columns/Series) are usually much faster than row-wise `apply` or Python loops. Prefer:\n",
    "\n",
    "- Vectorized arithmetic and boolean operations on Series/DataFrames\n",
    "- Method chaining to express multi-step transformations clearly: `.assign(...).query(...).groupby(...).agg(...).sort_values(...)`\n",
    "\n",
    "Key ideas:\n",
    "- Avoid iterating rows with `for`, `iterrows`, or row-wise `apply` for simple arithmetic — use column operations instead.\n",
    "- Use `.assign()` to create new columns within a pipeline, `.query()` for expressive filtering, and `.agg()` with named tuples for clear aggregates.\n",
    "- For large datasets, consider using categorical dtypes for string columns with fixed values from a limited set to reduce memory and speed up groupbys."
   ]
  },
  {
   "cell_type": "code",
   "execution_count": null,
   "metadata": {},
   "outputs": [],
   "source": [
    "# Demo: vectorized vs apply vs loop for computing volume\n",
    "import numpy as np\n",
    "import pandas as pd\n",
    "import time\n",
    "\n",
    "# Ensure required columns exist\n",
    "assert all(col in packages.columns for col in [\"width\",\"height\",\"length\"]), \"packages must have width, height, length\"\n",
    "\n",
    "# 1) Vectorized computation\n",
    "start = time.perf_counter()\n",
    "vol_vec = packages[\"width\"] * packages[\"height\"] * packages[\"length\"]\n",
    "t_vec = time.perf_counter() - start\n",
    "\n",
    "# 2) Row-wise apply\n",
    "start = time.perf_counter()\n",
    "vol_apply = packages.apply(lambda r: r[\"width\"]*r[\"height\"]*r[\"length\"], axis=1)\n",
    "t_apply = time.perf_counter() - start\n",
    "\n",
    "# 3) Python loop with iterrows (slowest)\n",
    "start = time.perf_counter()\n",
    "vol_loop = []\n",
    "for _, r in packages.iterrows():\n",
    "    vol_loop.append(r[\"width\"]*r[\"height\"]*r[\"length\"])\n",
    "t_loop = time.perf_counter() - start\n",
    "\n",
    "# Sanity check\n",
    "ok = np.allclose(vol_vec.values, vol_apply.values) and np.allclose(vol_vec.values, np.array(vol_loop))\n",
    "print(f\"Equal results across methods? {ok}\")\n",
    "print(f\"Vectorized: {t_vec:.4f}s | apply(axis=1): {t_apply:.4f}s | iterrows loop: {t_loop:.4f}s)\"\n",
    "\n",
    "# Save vectorized result into the dataframe (preferred)\n",
    "packages[\"volume_vec\"] = vol_vec\n",
    "packages.head()"
   ]
  },
  {
   "cell_type": "markdown",
   "metadata": {},
   "source": [
    "# Rename columns"
   ]
  },
  {
   "cell_type": "code",
   "execution_count": null,
   "metadata": {},
   "outputs": [],
   "source": [
    "# The parameter columns is a dictionary with the old names as keys and new names as values\n",
    "\n",
    "# Most of the methods that modifies the dataframes do not change the dataframe itself, \n",
    "# instead they return a copy of it with the modification applied\n",
    "orders.rename(columns={\"VAT_number\":\"client_VAT\"})"
   ]
  },
  {
   "cell_type": "markdown",
   "metadata": {
    "collapsed": true
   },
   "source": [
    "### Group by\n",
    "We can execute group by orders similar to SQL. It creates groups of rows with the same value in a column (or several columns) and then we can apply some functions to the groups, like count, sum, average, etc.\n",
    "\n",
    "https://pandas.pydata.org/pandas-docs/stable/user_guide/groupby.html\n",
    "\n",
    "The basic syntax is `df.groupby(\"column\").function()` or `df.groupby([\"column1\", \"column2\"]).function()`"
   ]
  },
  {
   "cell_type": "code",
   "execution_count": null,
   "metadata": {},
   "outputs": [],
   "source": [
    "# 💥💥💥\n",
    "# Group by order and count the number of rows in each group\n",
    "packages.groupby(\"order_id\").count()\n",
    "# There are many predefined aggregating functions like: first, last, median, sum, mean, max, min, etc"
   ]
  },
  {
   "cell_type": "markdown",
   "metadata": {
    "collapsed": true
   },
   "source": [
    "### Join dataframes\n",
    "There are methods to perform joins of two or more dataframes, the basic one (we only need this one in these workshops) is the method `merge`.\n",
    "\n",
    "Just for curiosity the guide of all join types can be glanced through: https://pandas.pydata.org/pandas-docs/stable/user_guide/merging.html"
   ]
  },
  {
   "cell_type": "code",
   "execution_count": null,
   "metadata": {
    "scrolled": false
   },
   "outputs": [],
   "source": [
    "# 💥💥💥\n",
    "# Merge both dataframes\n",
    "data = orders.merge(packages, on=\"order_id\").merge(customers, on=\"VAT_number\")\n",
    "\n",
    "data"
   ]
  },
  {
   "cell_type": "markdown",
   "metadata": {},
   "source": [
    "### Save data\n",
    "Saving a dataframe is quite similar to load data, we will use the methods ``dataframe.to_csv(filename)`` or ``dataframe.to_json(filename)``"
   ]
  },
  {
   "cell_type": "code",
   "execution_count": null,
   "metadata": {},
   "outputs": [],
   "source": [
    "data.to_json(\"data.json\")"
   ]
  },
  {
   "cell_type": "markdown",
   "metadata": {},
   "source": [
    "## Exercises\n",
    "\n",
    "Display your solutions using the `print` function. For example `print(\"The solution is \" + str(42))` (do not forget to convert numbers to strings with `str()`)\n",
    "\n",
    "### Exercise 1\n",
    "Calculate the number of trucks and customers in our datasets"
   ]
  },
  {
   "cell_type": "code",
   "execution_count": null,
   "metadata": {},
   "outputs": [],
   "source": []
  },
  {
   "cell_type": "markdown",
   "metadata": {},
   "source": [
    "### Exercise 2\n",
    "Count the number of different provinces that appear in the customers dataframe"
   ]
  },
  {
   "cell_type": "code",
   "execution_count": null,
   "metadata": {},
   "outputs": [],
   "source": []
  },
  {
   "cell_type": "markdown",
   "metadata": {},
   "source": [
    "### Exercise 3\n",
    "Show the top10 heaviest packages (tip: you can use the method `sort_values` https://pandas.pydata.org/pandas-docs/stable/reference/api/pandas.DataFrame.sort_values.html). In this case instead of using the `print` function, just evaluate the dataframe to show it."
   ]
  },
  {
   "cell_type": "code",
   "execution_count": null,
   "metadata": {},
   "outputs": [],
   "source": []
  },
  {
   "cell_type": "markdown",
   "metadata": {},
   "source": [
    "#### Optional advanced exercise — Method chaining and performance\n",
    "\n",
    "- Build a pipeline that:\n",
    "\n",
    "  1) starts from `packages`\n",
    "  2) creates `volume = width*height*length` and `weight_kg = weight/1000` using `.assign(...)`\n",
    "  3) filters large packages with `.query(\"volume > 150000\")`\n",
    "  4) groups by `province` and `big`, aggregates `count` and average `weight_kg`\n",
    "  5) sorts by the count descending\n",
    "\n",
    "- Implement it twice:\n",
    "\n",
    "  A) using vectorized operations inside a chaining pipeline;\n",
    "  B) using `.apply(axis=1)` to compute `volume` and `weight_kg`.\n",
    "\n",
    "- Compare timings with `%timeit` (Colab/Jupyter) and comment on readability."
   ]
  },
  {
   "cell_type": "code",
   "execution_count": null,
   "metadata": {},
   "outputs": [],
   "source": []
  },
  {
   "cell_type": "markdown",
   "metadata": {},
   "source": [
    "___\n",
    "# Matplotlib and Seaborn\n",
    "\n",
    "__Matplotlib__ (https://matplotlib.org/) is a Python 2D plotting library which produces publication quality figures in a variety of hardcopy formats and interactive environments across platforms.\n",
    "\n",
    "__Seaborn__ (https://seaborn.pydata.org/) is a Python library built on top of Matplotlib which offers an easy interface to create plots using dataframes."
   ]
  },
  {
   "cell_type": "code",
   "execution_count": null,
   "metadata": {},
   "outputs": [],
   "source": [
    "# To import these libraries we use these lines\n",
    "import matplotlib.pyplot as plt\n",
    "import seaborn as sns"
   ]
  },
  {
   "cell_type": "code",
   "execution_count": null,
   "metadata": {},
   "outputs": [],
   "source": [
    "# 💥💥💥\n",
    "# To create a new figure, we are going to use always the next steps\n",
    "# Note that the method returns 2 values, fig and ax, this can be usually found in python\n",
    "fig, ax = plt.subplots(nrows=2,ncols=2,figsize=(7,5))\n",
    "# The three parameters, nrows, ncols and figsize are optionally defined\n",
    "# We can define a matrix of subplots by changing the values of nrows and ncols\n",
    "# We can modify the size of the matrix with the arguments of figsize\n",
    "# If we don't specify this parameter, the figure will have the minimum size to fit all the drawings\n",
    "\n",
    "# Here we will define the charts, labels, grid, etc\n",
    "\n",
    "# Finally we should tell matplotlib to show the figure we have defined\n",
    "plt.show()"
   ]
  },
  {
   "cell_type": "code",
   "execution_count": null,
   "metadata": {},
   "outputs": [],
   "source": [
    "# Variable ax is a numpy array with all the subplots that we define\n",
    "# We can access to each subplot by its coordinates\n",
    "ax[0,0] # This is the same as ax[0][0]"
   ]
  },
  {
   "cell_type": "code",
   "execution_count": null,
   "metadata": {},
   "outputs": [],
   "source": [
    "fig, ax = plt.subplots(nrows=2,ncols=2,figsize=(7,5))\n",
    "\n",
    "# Sample function\n",
    "t = np.arange(0.0, 2.0, 0.01)\n",
    "s = 1 + np.sin(2 * np.pi * t)\n",
    "\n",
    "# To plot a line in a certain subplot we can use\n",
    "ax[0,0].plot(t,s) # t are the horizontal values and s the vertical ones\n",
    "ax[1,0].plot(s,'g') # If we define only one series it will be taken as the vertical values\n",
    "# We can define the color of a plot after the values of the line\n",
    "\n",
    "plt.show()"
   ]
  },
  {
   "cell_type": "markdown",
   "metadata": {},
   "source": [
    "## Plots with Matplotlib\n",
    "There are a huge number of different plots available in matplotlib, we are going to see the most basic ones\n",
    "https://matplotlib.org/api/axes_api.html#plotting\n",
    "\n",
    "### Line plot\n",
    "https://matplotlib.org/api/_as_gen/matplotlib.axes.Axes.plot.html?highlight=plot#matplotlib.axes.Axes.plot\n",
    "\n",
    "We can define a string after the data to modify the style of the line which will be plotted. These strings are defined in this way `'[color][marker][line style]'`, for example `'b--'` is a dashed blue line or `'ro'` is a sequence of red circles."
   ]
  },
  {
   "cell_type": "code",
   "execution_count": null,
   "metadata": {},
   "outputs": [],
   "source": [
    "fig, ax = plt.subplots(figsize=(7,5))\n",
    "\n",
    "# Plot\n",
    "ax.plot(t,s) \n",
    "ax.plot(t,2*s,'g--') # We can plot several lines in the same chart\n",
    "ax.plot(t,4*s,'r,')\n",
    "\n",
    "plt.show()"
   ]
  },
  {
   "cell_type": "markdown",
   "metadata": {},
   "source": [
    "### Bar plot\n",
    "https://matplotlib.org/api/_as_gen/matplotlib.pyplot.bar.html"
   ]
  },
  {
   "cell_type": "code",
   "execution_count": null,
   "metadata": {},
   "outputs": [],
   "source": [
    "fig, ax = plt.subplots(figsize=(7,5))\n",
    "\n",
    "# Sample data about programming language popularity\n",
    "x = [\"Python\", \"Java\", \"Javascript\", \"C#\", \"PHP\"]\n",
    "y = [25.13,21.98,8.35,7.5,7.36]\n",
    "\n",
    "# Plot\n",
    "ax.bar(x,y) \n",
    "\n",
    "plt.show()"
   ]
  },
  {
   "cell_type": "markdown",
   "metadata": {},
   "source": [
    "### Scatter plot\n",
    "https://matplotlib.org/api/_as_gen/matplotlib.axes.Axes.scatter.html#matplotlib.axes.Axes.scatter"
   ]
  },
  {
   "cell_type": "code",
   "execution_count": null,
   "metadata": {},
   "outputs": [],
   "source": [
    "fig, ax = plt.subplots(figsize=(7,5))\n",
    "\n",
    "# Sample data\n",
    "x = np.arange(0, 10, .1)\n",
    "y = (x+np.random.rand(100))**2\n",
    "\n",
    "# Plot\n",
    "ax.scatter(x,y) \n",
    "ax.scatter(x,-y)\n",
    "\n",
    "plt.show()"
   ]
  },
  {
   "cell_type": "markdown",
   "metadata": {},
   "source": [
    "### Histogram plot\n",
    "https://matplotlib.org/api/_as_gen/matplotlib.pyplot.hist.html#matplotlib.pyplot.hist"
   ]
  },
  {
   "cell_type": "code",
   "execution_count": null,
   "metadata": {
    "scrolled": true
   },
   "outputs": [],
   "source": [
    "fig, ax = plt.subplots(figsize=(7,5))\n",
    "\n",
    "# Sample data\n",
    "marks = [5.9, 7.9, 7.4, 6.2, 5.7, 8.3, 6  , 6.4, 8.1, 7.1, 5.7, 6.8, 6.2, 6.9, 7.2, 6.8, 7.3, 8.3, 5.3, 7.2, 5.8, \n",
    "         5.3, 6.8, 6.9, 5.5, 5.6, 7.7, 8.4, 6.5, 4.4, 6.8, 9.3, 5.7, 9.5, 7.1, 5.9, 8.2, 9  , 6.6, 6.8, 4.9, 6.9, \n",
    "         6.2, 6.8, 9.1, 5.8, 7.3, 4.7, 7.4, 3.1, 8.5, 7.9, 5.8, 7.9, 5.1, 5.2, 7.8, 6.3, 6.5, 5.3, 7.5, 6.8, 6.6, \n",
    "         6.7, 7.8, 7.6, 10 , 5.8, 8.1, 7.8, 8.5, 5.4, 8.1, 3.6, 6  , 8  , 6.1, 4.9, 6.3, 5.2, 7.3, 7  , 6.7, 5.9, \n",
    "         4.2, 5.2, 8.5, 9.2, 7.1, 8.7, 6.6, 8  , 6.9, 5  , 5.9, 8.1, 7  , 8.2, 7.7, 4.2]\n",
    "\n",
    "# Plot\n",
    "ax.hist(marks)\n",
    "\n",
    "plt.show()"
   ]
  },
  {
   "cell_type": "markdown",
   "metadata": {},
   "source": [
    "## Axes modifications and labels\n",
    "\n",
    "If we do not configure anything, matplotlib will generate axis scales just big enough to fit the data. Sometimes we may want to define a certain range (e.g., if we are plotting exam marks, we may want to plot from 0 to 10 on the horizontal axis) or we may want to use a different precision.\n",
    "\n",
    "In addition, it is good practice to include labels on both axes and a title above the chart."
   ]
  },
  {
   "cell_type": "code",
   "execution_count": null,
   "metadata": {},
   "outputs": [],
   "source": [
    "fig, ax = plt.subplots(figsize=(7,5))\n",
    "\n",
    "ax.hist(marks)\n",
    "\n",
    "# We can specify the ranges of both axes\n",
    "ax.set_xlim(0, 10)\n",
    "ax.set_ylim(0, 30)\n",
    "\n",
    "# We can also specify the divisions of the axes\n",
    "ax.set_yticks(np.arange(0,32,2))\n",
    "\n",
    "# Activate the grid\n",
    "ax.grid()\n",
    "\n",
    "# Set a title\n",
    "ax.set_title(\"Histogram of last exam's marks\")\n",
    "\n",
    "# Set axes labels\n",
    "ax.set_xlabel(\"Grade\")\n",
    "ax.set_ylabel(\"Number of students\")\n",
    "\n",
    "plt.show()"
   ]
  },
  {
   "cell_type": "markdown",
   "metadata": {},
   "source": [
    "## Exporting images\n",
    "We can export our images to use them anywhere. It is always suggested to use vector formats (like svg or eps) if it is possible."
   ]
  },
  {
   "cell_type": "code",
   "execution_count": null,
   "metadata": {},
   "outputs": [],
   "source": [
    "# We specify the file name and the format\n",
    "# bbox_inches='tight' removes the margins in the image\n",
    "fig.savefig(\"marksHistogram.pdf\", bbox_inches='tight')"
   ]
  },
  {
   "cell_type": "markdown",
   "metadata": {},
   "source": [
    "## Plotting with Seaborn\n",
    "Seaborn can be used in a similar way to matplotlib, by creating a figure and then plotting something on it."
   ]
  },
  {
   "cell_type": "code",
   "execution_count": null,
   "metadata": {},
   "outputs": [],
   "source": [
    "# 💥💥💥\n",
    "fig, ax = plt.subplots(figsize=(7,5))\n",
    "\n",
    "# The parameter 'data' defines the dataframe used to generate the chart\n",
    "# We need to indicate which columns will be used in each axis. 'x' and 'y' in this case\n",
    "# To use the figure we will set the parameter 'ax' equal to the axis we have just defined\n",
    "sns.scatterplot(data=customers, x=\"lat\",y=\"lng\", ax=ax)"
   ]
  },
  {
   "cell_type": "markdown",
   "metadata": {},
   "source": [
    "## Categorical plots"
   ]
  },
  {
   "cell_type": "code",
   "execution_count": null,
   "metadata": {},
   "outputs": [],
   "source": [
    "fig, ax = plt.subplots(figsize=(15,7))\n",
    "\n",
    "# countplot displays a bar chart with the sample's count of each category\n",
    "sns.countplot(data=orders, y='VAT_number', ax=ax)"
   ]
  },
  {
   "cell_type": "markdown",
   "metadata": {},
   "source": [
    "## Distribution plots"
   ]
  },
  {
   "cell_type": "code",
   "execution_count": null,
   "metadata": {},
   "outputs": [],
   "source": [
    "packages"
   ]
  },
  {
   "cell_type": "code",
   "execution_count": null,
   "metadata": {},
   "outputs": [],
   "source": [
    "fig, ax = plt.subplots(nrows=2, figsize=(14,12))\n",
    "\n",
    "# histplot creates an histogram of the indicated column\n",
    "sns.histplot(data=data, x=\"volume\", ax=ax[0], bins=50)\n",
    "\n",
    "# boxplots are used to display the distribution of values\n",
    "# With the 'hue' parameter we can define a column to group the data\n",
    "sns.boxplot(data=data, x=\"province\", y=\"weight\", ax=ax[1], hue=\"big\")\n",
    "# Rotating the labels\n",
    "ax[1].set_xticklabels(ax[1].get_xticklabels(), rotation=60)"
   ]
  },
  {
   "cell_type": "markdown",
   "metadata": {},
   "source": [
    "## Relation plots"
   ]
  },
  {
   "cell_type": "code",
   "execution_count": null,
   "metadata": {
    "scrolled": false
   },
   "outputs": [],
   "source": [
    "fig, ax = plt.subplots(ncols=2, figsize=(14,6))\n",
    "\n",
    "# Regplot \n",
    "sns.regplot(x=\"width\",y=\"volume\",data=packages, ax=ax[0])\n",
    "\n",
    "# Scatterplot\n",
    "sns.scatterplot(data=packages, x=\"width\", y=\"height\", size=\"volume\", ax=ax[1])"
   ]
  },
  {
   "cell_type": "markdown",
   "metadata": {},
   "source": [
    "### Advanced (optional) — Styling, axes-level vs figure-level, and faceting\n",
    "\n",
    "Seaborn offers two styles of APIs:\n",
    "- Axes-level functions (e.g., `sns.scatterplot`, `sns.boxplot`) which draw into a Matplotlib Axes you provide.\n",
    "- Figure-level functions (e.g., `sns.relplot`, `sns.catplot`, `sns.displot`) which create a figure and return a FacetGrid, making it easy to create multi-plot \"small multiples\" (facets).\n",
    "\n",
    "Tips:\n",
    "- Use `sns.set_theme(style=\"whitegrid\", context=\"notebook\", palette=\"deep\")` to stablish a style across all plots.\n",
    "- Prefer figure-level functions (`relplot`, `catplot`, `displot`) when you need faceting by a categorical variable."
   ]
  },
  {
   "cell_type": "markdown",
   "metadata": {},
   "source": [
    "## Problems\n",
    "\n",
    "### Problem 1\n",
    "Plot in a bar chart the number of customers in each province"
   ]
  },
  {
   "cell_type": "code",
   "execution_count": null,
   "metadata": {},
   "outputs": [],
   "source": [
    "# Use this cell to write your code"
   ]
  },
  {
   "cell_type": "markdown",
   "metadata": {},
   "source": [
    "### Problem 2\n",
    "Combine two kinds of charts (line, bars, scatter, etc) in one plot. You can use the data from previous cells or generate new data."
   ]
  },
  {
   "cell_type": "code",
   "execution_count": null,
   "metadata": {
    "scrolled": true
   },
   "outputs": [],
   "source": [
    "# Use this cell to write your code"
   ]
  },
  {
   "cell_type": "markdown",
   "metadata": {},
   "source": [
    "#### Optional advanced exercise — Faceted plots and aesthetics\n",
    "\n",
    "- Create a figure-level faceted plot (`sns.relplot` or `sns.catplot`) showing two variables of interest, faceted by a categorical column (e.g., `province` or `big`).\n",
    "- Compare the same information using axes-level functions in a 1×2 layout with `plt.subplots`.\n",
    "- Experiment with theme settings (`sns.set_theme`) and annotate axes titles/labels. Use `%timeit` (optional) to compare rendering times for small vs large subsets (e.g., `packages.sample(n=2000, random_state=0)`)."
   ]
  },
  {
   "cell_type": "code",
   "execution_count": null,
   "metadata": {},
   "outputs": [],
   "source": []
  },
  {
   "cell_type": "markdown",
   "metadata": {},
   "source": [
    "<!-- Instructor-only (optional): Uncomment the cell below if you want to show a NumPy vectorized solution and quick assertions in class. -->"
   ]
  }
 ],
 "metadata": {
  "celltoolbar": "Raw Cell Format",
  "kernelspec": {
   "display_name": "Python 3",
   "language": "python",
   "name": "python3"
  },
  "language_info": {
   "codemirror_mode": {
    "name": "ipython",
    "version": 3
   },
   "file_extension": ".py",
   "mimetype": "text/x-python",
   "name": "python",
   "nbconvert_exporter": "python",
   "pygments_lexer": "ipython3",
   "version": "3.10.6"
  }
 },
 "nbformat": 4,
 "nbformat_minor": 2
}
